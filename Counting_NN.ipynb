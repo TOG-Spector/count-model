{
  "nbformat": 4,
  "nbformat_minor": 0,
  "metadata": {
    "colab": {
      "name": "Counting NN.ipynb",
      "provenance": [],
      "collapsed_sections": []
    },
    "kernelspec": {
      "name": "python3",
      "display_name": "Python 3"
    },
    "accelerator": "GPU"
  },
  "cells": [
    {
      "cell_type": "markdown",
      "metadata": {
        "id": "FLdJBPOBQp63"
      },
      "source": [
        "#**IMPORTS**\n"
      ]
    },
    {
      "cell_type": "code",
      "metadata": {
        "id": "q7EfuTYUQMaf"
      },
      "source": [
        "import tensorflow as tf\n",
        "import numpy as np\n",
        "from tqdm import tqdm\n",
        "import matplotlib.pyplot as plt\n",
        "import random\n",
        "import math as m\n"
      ],
      "execution_count": null,
      "outputs": []
    },
    {
      "cell_type": "markdown",
      "metadata": {
        "id": "Z7x0erddRp7O"
      },
      "source": [
        "#**DATASET**\n",
        "\n",
        "Importing a csv file that contains a digits in column 1 and how many seconds it would take me to count from one to every digit in the corresponding column. This is followed by dividing the data into training and validation batches."
      ]
    },
    {
      "cell_type": "code",
      "metadata": {
        "id": "geWvUEqC6jp5"
      },
      "source": [
        "import pandas as pd\n",
        "#df = pd.read_csv('good_data.csv')\n",
        "#df = pd.read_csv('Name of file')\n",
        "\n",
        "x_train_data = []\n",
        "y_train_data = []\n",
        "\n",
        "x_test_data = []\n",
        "y_test_data = []\n",
        "\n",
        "for x in range(len(df)):\n",
        "  if x%5 == 0:\n",
        "    x_test_data.append(df['Number'][x])\n",
        "    y_test_data.append(df['Time'][x])\n",
        "  else:\n",
        "    x_train_data.append(df['Number'][x])\n",
        "    y_train_data.append(df['Time'][x])\n",
        "\n",
        "print(f'Train_percent: {(len(x_test_data)/len(x_train_data))*100}')"
      ],
      "execution_count": null,
      "outputs": []
    },
    {
      "cell_type": "markdown",
      "metadata": {
        "id": "WZSI0v3zUPJ5"
      },
      "source": [
        "#**TRAINING SET**\n",
        "\n",
        "Converting the data into numpy arrays."
      ]
    },
    {
      "cell_type": "code",
      "metadata": {
        "id": "WBImeZRBUbBf"
      },
      "source": [
        "x_batch = np.array(x_train_data)\n",
        "y_batch = np.array(y_train_data)\n",
        "\n",
        "x_test = np.array(x_test_data)\n",
        "y_test = np.array(y_test_data)"
      ],
      "execution_count": null,
      "outputs": []
    },
    {
      "cell_type": "markdown",
      "metadata": {
        "id": "f1LXujHdaSDh"
      },
      "source": [
        "#**DATA PROCESSING TEST**\n",
        "\n",
        "Checking to see if the data was correctly read and formatted. "
      ]
    },
    {
      "cell_type": "code",
      "metadata": {
        "id": "nbNBWdoOaUJT"
      },
      "source": [
        "print(x_batch[0].shape)\n",
        "print(y_batch.shape)\n",
        "for x in range(5):\n",
        "  print(f\"x:{x_batch[x]}     y:{y_batch[x]}\")"
      ],
      "execution_count": null,
      "outputs": []
    },
    {
      "cell_type": "markdown",
      "metadata": {
        "id": "HblkuzMocMdu"
      },
      "source": [
        "#**MODEL**\n",
        "\n",
        "Creatiing a sequential model with one hidden layer"
      ]
    },
    {
      "cell_type": "code",
      "metadata": {
        "id": "AxsAjt3ncunU"
      },
      "source": [
        "def build_model():\n",
        "  model = tf.keras.Sequential([\n",
        "  \n",
        "  tf.keras.layers.Dense(1, activation='relu'),\n",
        "  tf.keras.layers.Dense(16, activation='relu'),\n",
        "  tf.keras.layers.Dense(1)\n",
        "\n",
        "  ])\n",
        "  return model"
      ],
      "execution_count": null,
      "outputs": []
    },
    {
      "cell_type": "markdown",
      "metadata": {
        "id": "zynl4XjFgfdr"
      },
      "source": [
        "#**TEST MODEL**"
      ]
    },
    {
      "cell_type": "code",
      "metadata": {
        "id": "gBq7XO0LgkCc"
      },
      "source": [
        "model = build_model()\n",
        "model.compile(optimizer=tf.keras.optimizers.Adam(learning_rate=1e-2), \n",
        "              loss='mean_squared_error',\n",
        "              metrics=['accuracy'])"
      ],
      "execution_count": null,
      "outputs": []
    },
    {
      "cell_type": "markdown",
      "metadata": {
        "id": "0BQ3QKRXr06p"
      },
      "source": [
        "#**HYPERPARAMETER**\n",
        "\n",
        "Setting the number of epochs and the batch size "
      ]
    },
    {
      "cell_type": "code",
      "metadata": {
        "id": "Ljp2gB8Wr47n"
      },
      "source": [
        "epoch_number = 10\n",
        "batches = 10000"
      ],
      "execution_count": null,
      "outputs": []
    },
    {
      "cell_type": "markdown",
      "metadata": {
        "id": "mtgI0I0qqGFI"
      },
      "source": [
        "#**TRAINING ARENA**\n",
        "\n",
        "Training of the model using the data from the training and test data."
      ]
    },
    {
      "cell_type": "code",
      "metadata": {
        "id": "lDw2D9qOqIaY"
      },
      "source": [
        "model.fit(x_batch, y_batch, batch_size=batches, epochs=epoch_number, validation_data=(x_test,y_test))\n"
      ],
      "execution_count": null,
      "outputs": []
    },
    {
      "cell_type": "markdown",
      "metadata": {
        "id": "xoyGRSbYEnSz"
      },
      "source": [
        "#**USING THE MODEL**\n",
        "\n",
        "Using some sample input with the model "
      ]
    },
    {
      "cell_type": "code",
      "metadata": {
        "id": "ynhJ3D9AEoom"
      },
      "source": [
        "test = np.array([1000])\n",
        "model(test)"
      ],
      "execution_count": null,
      "outputs": []
    },
    {
      "cell_type": "markdown",
      "metadata": {
        "id": "nHK2zFthlnun"
      },
      "source": [
        "#**Saving the Model**\n",
        "\n",
        "Saving the model to a specified directory"
      ]
    },
    {
      "cell_type": "code",
      "metadata": {
        "id": "GPXFa60xrvVA"
      },
      "source": [
        "model.save('Directory to save model')"
      ],
      "execution_count": null,
      "outputs": []
    },
    {
      "cell_type": "markdown",
      "metadata": {
        "id": "qi9ZxyFiQXCr"
      },
      "source": [
        "#**Using Existing Model**\n",
        "\n",
        "Retrieve and use a model from a specified directory."
      ]
    },
    {
      "cell_type": "code",
      "metadata": {
        "id": "x2vOdEEOJrZu"
      },
      "source": [
        "#existing_model = tf.keras.models.load_model('/content/drive/My Drive/colab/models/KB-01')\n",
        "existing_model = tf.keras.models.load_model('Path to the model')\n",
        "test = np.array([1000000000])\n",
        "existing_model(test)"
      ],
      "execution_count": null,
      "outputs": []
    }
  ]
}