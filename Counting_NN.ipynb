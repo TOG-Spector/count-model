{
  "nbformat": 4,
  "nbformat_minor": 0,
  "metadata": {
    "colab": {
      "name": "Counting NN.ipynb",
      "provenance": [],
      "collapsed_sections": []
    },
    "kernelspec": {
      "name": "python3",
      "display_name": "Python 3"
    },
    "accelerator": "GPU"
  },
  "cells": [
    {
      "cell_type": "markdown",
      "metadata": {
        "id": "FLdJBPOBQp63"
      },
      "source": [
        "#**IMPORTS**\n"
      ]
    },
    {
      "cell_type": "code",
      "metadata": {
        "id": "q7EfuTYUQMaf"
      },
      "source": [
        "import tensorflow as tf\n",
        "import numpy as np\n",
        "from tqdm import tqdm\n",
        "import matplotlib.pyplot as plt\n",
        "import random\n",
        "import math as m\n"
      ],
      "execution_count": null,
      "outputs": []
    },
    {
      "cell_type": "markdown",
      "metadata": {
        "id": "Z7x0erddRp7O"
      },
      "source": [
        "#**DATASET**\n"
      ]
    },
    {
      "cell_type": "code",
      "metadata": {
        "id": "geWvUEqC6jp5",
        "outputId": "8f9d8302-1194-43b3-acc1-8fd2b942637d",
        "colab": {
          "base_uri": "https://localhost:8080/",
          "height": 36
        }
      },
      "source": [
        "import pandas as pd\n",
        "df = pd.read_csv('good_data.csv')\n",
        "x_train_data = []\n",
        "y_train_data = []\n",
        "\n",
        "x_test_data = []\n",
        "y_test_data = []\n",
        "\n",
        "for x in range(len(df)):\n",
        "  if x%5 == 0:\n",
        "    x_test_data.append(df['Number'][x])\n",
        "    y_test_data.append(df['Time'][x])\n",
        "  else:\n",
        "    x_train_data.append(df['Number'][x])\n",
        "    y_train_data.append(df['Time'][x])\n",
        "\n",
        "print(f'Train_percent: {(len(x_test_data)/len(x_train_data))*100}')"
      ],
      "execution_count": null,
      "outputs": [
        {
          "output_type": "stream",
          "text": [
            "Train_percent: 25.0\n"
          ],
          "name": "stdout"
        }
      ]
    },
    {
      "cell_type": "markdown",
      "metadata": {
        "id": "WZSI0v3zUPJ5"
      },
      "source": [
        "#**TRAINING SET**"
      ]
    },
    {
      "cell_type": "code",
      "metadata": {
        "id": "WBImeZRBUbBf"
      },
      "source": [
        "x_batch = np.array(x_train_data)\n",
        "y_batch = np.array(y_train_data)\n",
        "\n",
        "x_test = np.array(x_test_data)\n",
        "y_test = np.array(y_test_data)"
      ],
      "execution_count": null,
      "outputs": []
    },
    {
      "cell_type": "markdown",
      "metadata": {
        "id": "f1LXujHdaSDh"
      },
      "source": [
        "#**DATA PROCESSING TEST**"
      ]
    },
    {
      "cell_type": "code",
      "metadata": {
        "id": "nbNBWdoOaUJT",
        "outputId": "2b5c4a21-9ffb-427a-ea67-974b54d95912",
        "colab": {
          "base_uri": "https://localhost:8080/",
          "height": 148
        }
      },
      "source": [
        "print(x_batch[0].shape)\n",
        "print(y_batch.shape)\n",
        "for x in range(5):\n",
        "  print(f\"x:{x_batch[x]}     y:{y_batch[x]}\")"
      ],
      "execution_count": null,
      "outputs": [
        {
          "output_type": "stream",
          "text": [
            "()\n",
            "(80000,)\n",
            "x:2     y:1.0\n",
            "x:3     y:1.5\n",
            "x:4     y:2.0\n",
            "x:5     y:2.5\n",
            "x:7     y:3.5\n"
          ],
          "name": "stdout"
        }
      ]
    },
    {
      "cell_type": "markdown",
      "metadata": {
        "id": "HblkuzMocMdu"
      },
      "source": [
        "#**MODEL**"
      ]
    },
    {
      "cell_type": "code",
      "metadata": {
        "id": "AxsAjt3ncunU"
      },
      "source": [
        "def build_model():\n",
        "  model = tf.keras.Sequential([\n",
        "  \n",
        "  tf.keras.layers.Dense(1, activation='relu'),\n",
        "  tf.keras.layers.Dense(16, activation='relu'),\n",
        "  tf.keras.layers.Dense(1)\n",
        "\n",
        "  ])\n",
        "  return model"
      ],
      "execution_count": null,
      "outputs": []
    },
    {
      "cell_type": "markdown",
      "metadata": {
        "id": "zynl4XjFgfdr"
      },
      "source": [
        "#**TEST MODEL**"
      ]
    },
    {
      "cell_type": "code",
      "metadata": {
        "id": "gBq7XO0LgkCc"
      },
      "source": [
        "model = build_model()\n",
        "model.compile(optimizer=tf.keras.optimizers.Adam(learning_rate=1e-2), \n",
        "              loss='mean_squared_error',\n",
        "              metrics=['accuracy'])"
      ],
      "execution_count": null,
      "outputs": []
    },
    {
      "cell_type": "markdown",
      "metadata": {
        "id": "0BQ3QKRXr06p"
      },
      "source": [
        "#**HYPERPARAMETER**\n"
      ]
    },
    {
      "cell_type": "code",
      "metadata": {
        "id": "Ljp2gB8Wr47n"
      },
      "source": [
        "epoch_number = 10\n",
        "batches = 10000"
      ],
      "execution_count": null,
      "outputs": []
    },
    {
      "cell_type": "markdown",
      "metadata": {
        "id": "mtgI0I0qqGFI"
      },
      "source": [
        "#**TRAINING ARENA**"
      ]
    },
    {
      "cell_type": "code",
      "metadata": {
        "id": "lDw2D9qOqIaY",
        "outputId": "3b1dd181-0260-4997-9faa-22baa5011b1f",
        "colab": {
          "base_uri": "https://localhost:8080/",
          "height": 430
        }
      },
      "source": [
        "model.fit(x_batch, y_batch, batch_size=batches, epochs=epoch_number, validation_data=(x_test,y_test))\n"
      ],
      "execution_count": null,
      "outputs": [
        {
          "output_type": "stream",
          "text": [
            "Epoch 1/10\n",
            "8/8 [==============================] - 0s 7ms/step - loss: 785.0745 - accuracy: 0.0000e+00 - val_loss: 780.8997 - val_accuracy: 0.0000e+00\n",
            "Epoch 2/10\n",
            "8/8 [==============================] - 0s 5ms/step - loss: 781.1714 - accuracy: 0.0000e+00 - val_loss: 780.8973 - val_accuracy: 0.0000e+00\n",
            "Epoch 3/10\n",
            "8/8 [==============================] - 0s 4ms/step - loss: 780.8503 - accuracy: 0.0000e+00 - val_loss: 785.5626 - val_accuracy: 0.0000e+00\n",
            "Epoch 4/10\n",
            "8/8 [==============================] - 0s 5ms/step - loss: 782.0056 - accuracy: 0.0000e+00 - val_loss: 784.8042 - val_accuracy: 0.0000e+00\n",
            "Epoch 5/10\n",
            "8/8 [==============================] - 0s 5ms/step - loss: 781.8002 - accuracy: 0.0000e+00 - val_loss: 780.6796 - val_accuracy: 0.0000e+00\n",
            "Epoch 6/10\n",
            "8/8 [==============================] - 0s 5ms/step - loss: 779.5971 - accuracy: 0.0000e+00 - val_loss: 779.6038 - val_accuracy: 0.0000e+00\n",
            "Epoch 7/10\n",
            "8/8 [==============================] - 0s 5ms/step - loss: 779.3970 - accuracy: 0.0000e+00 - val_loss: 779.6146 - val_accuracy: 0.0000e+00\n",
            "Epoch 8/10\n",
            "8/8 [==============================] - 0s 5ms/step - loss: 782.1727 - accuracy: 0.0000e+00 - val_loss: 783.3165 - val_accuracy: 0.0000e+00\n",
            "Epoch 9/10\n",
            "8/8 [==============================] - 0s 4ms/step - loss: 784.0855 - accuracy: 0.0000e+00 - val_loss: 790.2552 - val_accuracy: 0.0000e+00\n",
            "Epoch 10/10\n",
            "8/8 [==============================] - 0s 5ms/step - loss: 782.6870 - accuracy: 0.0000e+00 - val_loss: 780.5214 - val_accuracy: 0.0000e+00\n"
          ],
          "name": "stdout"
        },
        {
          "output_type": "execute_result",
          "data": {
            "text/plain": [
              "<tensorflow.python.keras.callbacks.History at 0x7fddf851a860>"
            ]
          },
          "metadata": {
            "tags": []
          },
          "execution_count": 119
        }
      ]
    },
    {
      "cell_type": "markdown",
      "metadata": {
        "id": "xoyGRSbYEnSz"
      },
      "source": [
        "#**USING THE MODEL**"
      ]
    },
    {
      "cell_type": "code",
      "metadata": {
        "id": "ynhJ3D9AEoom",
        "outputId": "846c07af-e5ba-420d-9508-ca4b05c8f5c4",
        "colab": {
          "base_uri": "https://localhost:8080/",
          "height": 36
        }
      },
      "source": [
        "test = np.array([1000])\n",
        "model(test)"
      ],
      "execution_count": null,
      "outputs": [
        {
          "output_type": "execute_result",
          "data": {
            "text/plain": [
              "<tf.Tensor: shape=(1, 1), dtype=float32, numpy=array([[585.0323]], dtype=float32)>"
            ]
          },
          "metadata": {
            "tags": []
          },
          "execution_count": 121
        }
      ]
    },
    {
      "cell_type": "markdown",
      "metadata": {
        "id": "qi9ZxyFiQXCr"
      },
      "source": [
        "#**Using Existing Model**\n"
      ]
    },
    {
      "cell_type": "code",
      "metadata": {
        "id": "x2vOdEEOJrZu",
        "outputId": "621c6759-6ddf-4676-99ab-ce7aaa93b9fe",
        "colab": {
          "base_uri": "https://localhost:8080/",
          "height": 35
        }
      },
      "source": [
        "new_model = tf.keras.models.load_model('/content/drive/My Drive/colab/models/KB-01')\n",
        "test = np.array([1000000000])\n",
        "new_model(test)"
      ],
      "execution_count": null,
      "outputs": [
        {
          "output_type": "execute_result",
          "data": {
            "text/plain": [
              "<tf.Tensor: shape=(1, 1), dtype=float32, numpy=array([[1.2888883e+09]], dtype=float32)>"
            ]
          },
          "metadata": {
            "tags": []
          },
          "execution_count": 7
        }
      ]
    }
  ]
}